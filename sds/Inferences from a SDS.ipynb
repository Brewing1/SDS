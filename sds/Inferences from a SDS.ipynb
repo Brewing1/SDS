{
 "cells": [
  {
   "cell_type": "markdown",
   "metadata": {},
   "source": [
    "# Taking Inferences from Standard Single-Dummy Solver"
   ]
  },
  {
   "cell_type": "markdown",
   "metadata": {},
   "source": [
    "**Currently, most Single-Dummy Solvers (SDS) (Including my own) use something like the following process**\n",
    "- Generate possible layouts of the opponents hands (I currently use ALL layouts for our SDS applied to a limited bridge game, but current SDS for regular bridge generate some number of random distributions)\n",
    "- For each layout, run a double-dummy solver (DDS), and get the number of tricks made when playing each card in that layout\n",
    "- Aggregate the results from all layouts, giving us the overall utility* of each card\n",
    "\n",
    "*The simplest utility is simply the mean number of tricks (that's what my sds currently uses, but can be extended to the probability of making a contract or the total points score)"
   ]
  },
  {
   "cell_type": "markdown",
   "metadata": {},
   "source": [
    "**This is not an optimal solution.**\n",
    "Intuitively, this seems fine - we consider every possible layout, let both players play optimally in all of them, and aggregate the results. \n",
    "However, it soon becomes clear that this strategy for solving single dummy problems is not complete."
   ]
  },
  {
   "cell_type": "markdown",
   "metadata": {},
   "source": [
    "Let's look at an example using our SDS to illustrate where the issue arises"
   ]
  },
  {
   "cell_type": "code",
   "execution_count": 1,
   "metadata": {},
   "outputs": [],
   "source": [
    "import numpy as np\n",
    "import pandas as pd\n",
    "import sys\n",
    "\n",
    "from engine import Engine\n",
    "import displayer\n",
    "import simulator\n",
    "from deal import Deal\n",
    "from dds import DDS\n"
   ]
  },
  {
   "cell_type": "code",
   "execution_count": 2,
   "metadata": {},
   "outputs": [],
   "source": [
    "game = Engine()"
   ]
  },
  {
   "cell_type": "markdown",
   "metadata": {},
   "source": [
    "We first generate a (4 cards each) hand where it is south's turn"
   ]
  },
  {
   "cell_type": "code",
   "execution_count": 3,
   "metadata": {},
   "outputs": [
    {
     "name": "stdout",
     "output_type": "stream",
     "text": [
      "\t\t S13 H12 D14    \n",
      "\t\t S11            \n",
      "\n",
      "\n",
      "    H14 D12 C14 \t\t S12     D13 C12\n",
      "    H11         \t\t             C11\n",
      "\n",
      "\n",
      "\t\t S14 H13 D11 C13\n",
      "\n",
      "\n"
     ]
    }
   ],
   "source": [
    "# We can either generate a hand automatically or manually input a hand.\n",
    "# hand = {'N': ['C14', 'C13', 'C12', 'C11'], 'E': ['S14', 'S13', 'H12', 'H13'], \n",
    "    # 'S': ['D14', 'D11', 'H14', 'H11'], 'W': ['D12', 'D13', 'S12', 'S11']}\n",
    "# deal1 = Deal(hand=hand, first_turn='S', trumps=None)\n",
    "seed = 14\n",
    "deal1 = Deal(seed=seed, cards_each=4, first_turn='S', trumps=None)\n",
    "displayer.print_hands(deal1.current_hands)"
   ]
  },
  {
   "cell_type": "markdown",
   "metadata": {},
   "source": [
    "We then get all the possible layouts of the hand, from the perspective of south (who can see their own hand and north's hand (the dummy)\n",
    "\n",
    "\n",
    "\n",
    "\n",
    "\n",
    "\n",
    "\n",
    "\n",
    "\n",
    "\n",
    "\n",
    "\n",
    "\n",
    "\n",
    "\n",
    "\n",
    "\n",
    "\n",
    "\n",
    "\n",
    "\n",
    "\n",
    "\n",
    "\n",
    "\n",
    "\n",
    "\n",
    "\n",
    "\n",
    "\n",
    "\n",
    "\n",
    "\n",
    "\n",
    "\n",
    "\n",
    "\n"
   ]
  },
  {
   "cell_type": "code",
   "execution_count": 4,
   "metadata": {},
   "outputs": [
    {
     "name": "stdout",
     "output_type": "stream",
     "text": [
      "There are 70 possible layouts (8C4)\n"
     ]
    }
   ],
   "source": [
    "first_player = deal1.first_turn\n",
    "first_layouts = simulator.find_layouts(deal1, first_player, on_lead=False)\n",
    "\n",
    "print(f\"There are {len(first_layouts)} possible layouts (8C4)\")"
   ]
  },
  {
   "cell_type": "markdown",
   "metadata": {},
   "source": [
    "We run our SDS on this position, which will run a DDS on each of these 70 layouts, and give us the mean number of tricks obtained for north south for each card they can play"
   ]
  },
  {
   "cell_type": "code",
   "execution_count": 5,
   "metadata": {},
   "outputs": [
    {
     "name": "stdout",
     "output_type": "stream",
     "text": [
      "Average number of tricks expected for NS after S plays:\n",
      "C13    1.171429\n",
      "D11    2.000000\n",
      "H13    1.028571\n",
      "S14    3.000000\n",
      "dtype: float64\n",
      "\n",
      "Best card: S14\n"
     ]
    }
   ],
   "source": [
    "first_df = game.sds(first_layouts, deal1)\n",
    "mean_first_df = first_df.mean()\n",
    "print(f\"Average number of tricks expected for NS after {first_player} plays:\")\n",
    "print(mean_first_df)\n",
    "first_card_played = mean_first_df.idxmax()\n",
    "print(\"\\nBest card:\", first_card_played)"
   ]
  },
  {
   "cell_type": "markdown",
   "metadata": {},
   "source": [
    "Lets play this best card, and move over to west and see what their options are."
   ]
  },
  {
   "cell_type": "code",
   "execution_count": 6,
   "metadata": {},
   "outputs": [
    {
     "name": "stdout",
     "output_type": "stream",
     "text": [
      "\t\t S13 H12 D14    \n",
      "\t\t S11            \n",
      "\n",
      "\n",
      "    H14 D12 C14 \t\t S12     D13 C12\n",
      "    H11         \t\t             C11\n",
      "\n",
      "\n",
      "\t\t     H13 D11 C13\n",
      "\n",
      "\n"
     ]
    }
   ],
   "source": [
    "deal1.play_card(deal1.first_turn, first_card_played)\n",
    "displayer.print_hands(deal1.current_hands)\n"
   ]
  },
  {
   "cell_type": "markdown",
   "metadata": {},
   "source": [
    "Now, as west, we can use our SDS on the new position (accounting for the first card that was played)"
   ]
  },
  {
   "cell_type": "code",
   "execution_count": 7,
   "metadata": {},
   "outputs": [
    {
     "name": "stdout",
     "output_type": "stream",
     "text": [
      "There are 35 possible layouts (7C3)\n",
      "\n",
      "Average number of tricks expected for NS after W plays\n",
      "C14    3.400000\n",
      "D12    2.800000\n",
      "H11    2.914286\n",
      "H14    3.342857\n",
      "dtype: float64\n"
     ]
    }
   ],
   "source": [
    "second_player = deal1.play_order[deal1.current_turn_index]\n",
    "second_layouts = simulator.find_layouts(deal1, second_player, on_lead=False)\n",
    "print(f\"There are {len(second_layouts)} possible layouts (7C3)\\n\")\n",
    "\n",
    "second_df = game.sds(second_layouts, deal1)\n",
    "mean_second_df = second_df.mean()\n",
    "print(f\"Average number of tricks expected for NS after {second_player} plays\")\n",
    "print(mean_second_df)\n",
    "card_played = mean_second_df.idxmax()"
   ]
  },
  {
   "cell_type": "markdown",
   "metadata": {},
   "source": [
    "Looks good. **However, we missed a crucial piece of information.** The fact that South 'chose' to play their first card, tells us information about their hand. So if we can work out what would entice South to play the card they played, then we can narrow down their distribution even more.\n",
    "\n",
    "Luckily, we know exactly how South made their decision. Namely by using the SDS :)"
   ]
  },
  {
   "cell_type": "markdown",
   "metadata": {},
   "source": [
    "Let's look at all of the possible information sets that South could have had when they made their decision, run our SDS on those information sets. \n",
    "\n",
    "Currently, we know that South could see all of dummy, and they could see the card they chose to play. We have already generated all the possible hands South could have, from the perspective of West, so we can use those again (the variable 'second_layouts')"
   ]
  },
  {
   "cell_type": "code",
   "execution_count": 8,
   "metadata": {},
   "outputs": [],
   "source": [
    "likely_layouts = []\n",
    "unlikely_layouts = []\n",
    "for potential_original_layout in second_layouts:\n",
    "    # Add the card South played back in to their hand\n",
    "    potential_original_layout[first_player].insert(0, first_card_played)\n",
    "\n",
    "    deal = Deal(hands=potential_original_layout, first_turn=first_player)\n",
    "    # For this potential layout of the south cards, generate the layouts that EW could have\n",
    "    layouts = simulator.find_layouts(deal, first_player, on_lead=False)\n",
    "\n",
    "    potential_df = game.sds(layouts, deal) \n",
    "    mean_potential_df = potential_df.mean()\n",
    "    # Get the card that SDS suggests to play\n",
    "    current_card_played = mean_potential_df.idxmax()\n",
    "\n",
    "    if current_card_played == first_card_played:\n",
    "        likely_layouts.append(potential_original_layout)\n",
    "    else:\n",
    "        unlikely_layouts.append((potential_original_layout, current_card_played))\n"
   ]
  },
  {
   "cell_type": "code",
   "execution_count": 9,
   "metadata": {},
   "outputs": [
    {
     "name": "stdout",
     "output_type": "stream",
     "text": [
      "So there are only 16 layouts in which South would have played S14\n"
     ]
    }
   ],
   "source": [
    "print(f\"So there are only {len(likely_layouts)} layouts in which South would have played {first_card_played}\")"
   ]
  },
  {
   "cell_type": "markdown",
   "metadata": {},
   "source": [
    "Now, as West, we know that South has one of those layouts. So, using those layouts, we can run our SDS and get a more accurate trick estimation for our decision"
   ]
  },
  {
   "cell_type": "code",
   "execution_count": 10,
   "metadata": {},
   "outputs": [
    {
     "name": "stdout",
     "output_type": "stream",
     "text": [
      "C14    3.4375\n",
      "D12    2.5000\n",
      "H11    2.7500\n",
      "H14    3.3125\n",
      "dtype: float64\n"
     ]
    }
   ],
   "source": [
    "for i in likely_layouts:\n",
    "    i[first_player].remove(first_card_played)\n",
    "\n",
    "final_df = game.sds(likely_layouts, deal1)\n",
    "mean_final_df = final_df.mean()\n",
    "print(mean_final_df)"
   ]
  },
  {
   "cell_type": "markdown",
   "metadata": {},
   "source": [
    "So we can see that the expected value has changed once we make an inference from the fact that South played the card they did. Employing techniques like this should bring big improvements to SDS systems"
   ]
  },
  {
   "cell_type": "markdown",
   "metadata": {},
   "source": [
    "### Thoughts/Issues"
   ]
  },
  {
   "cell_type": "markdown",
   "metadata": {},
   "source": [
    "- In this reduced example above, we had to run the DDS 70*35 = 2450 times (70 times for each of the 35 possible hands south was holding). This very quickly becomes infeasible for problems with more cards than this. Note, however, that this SDS is 'complete', in that it calculates every possible layout, and does not reduce the size of the game tree (except for alpha-beta pruning). Reducing the game tree size is where the crux of the SDS is, and the use of heuristics created manually and learned from ILP/PILP will greatly help if integrated in this system.\n",
    "- This strategy is only one-step. If North knows that West is employing this strategy, they can use that to aid their decisions. Moreover, if South knew that West would be employing this strategy, they could exploit it in their leading strategy. Thus, finding a true nash equilibrium is infeasible - but working towards one with heuristic simplifications could provide nice gains  \n",
    "- Looking at the above point another way - while taking inference from the play can be hard, once it's taken, you can reduce the search tree size (we only searched 16 layouts in this example instead of the original 35). Although, you may want to still explore the whole tree and just give probabilistic weightings to our inferences.\n",
    "- When playing against humans or a another AI, we won't be as certain about how they make their decisions, and so we are susceptible to being misled about their possible ranges. This is where assigning a probability to the inferences could be crucial\n"
   ]
  },
  {
   "cell_type": "code",
   "execution_count": null,
   "metadata": {},
   "outputs": [],
   "source": []
  }
 ],
 "metadata": {
  "kernelspec": {
   "display_name": "Python 3",
   "language": "python",
   "name": "python3"
  },
  "language_info": {
   "codemirror_mode": {
    "name": "ipython",
    "version": 3
   },
   "file_extension": ".py",
   "mimetype": "text/x-python",
   "name": "python",
   "nbconvert_exporter": "python",
   "pygments_lexer": "ipython3",
   "version": "3.7.0"
  }
 },
 "nbformat": 4,
 "nbformat_minor": 2
}
